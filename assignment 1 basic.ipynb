{
 "cells": [
  {
   "cell_type": "code",
   "execution_count": 1,
   "id": "c116d9dc",
   "metadata": {},
   "outputs": [
    {
     "name": "stdout",
     "output_type": "stream",
     "text": [
      "hope ai\n"
     ]
    }
   ],
   "source": [
    "print(\"hope ai\")"
   ]
  },
  {
   "cell_type": "code",
   "execution_count": 2,
   "id": "89b31de8",
   "metadata": {},
   "outputs": [
    {
     "name": "stdout",
     "output_type": "stream",
     "text": [
      "enter the institue name?: gh\n"
     ]
    }
   ],
   "source": [
    "print=str(input(\"enter the institue name?: \"))"
   ]
  },
  {
   "cell_type": "code",
   "execution_count": 3,
   "id": "a80fa8e5",
   "metadata": {},
   "outputs": [
    {
     "name": "stdout",
     "output_type": "stream",
     "text": [
      "enter your name:syed\n",
      "enter your age:25\n",
      "enter your school namer:bss\n",
      "enter your degree:hsc\n"
     ]
    }
   ],
   "source": [
    "print=str(input(\"enter your name:\" ))\n",
    "print=int(input(\"enter your age:\" ))\n",
    "print=str(input(\"enter your school namer:\" ))\n",
    "print=str(input(\"enter your degree:\" ))"
   ]
  },
  {
   "cell_type": "markdown",
   "id": "8a1ff3a7",
   "metadata": {},
   "source": []
  },
  {
   "cell_type": "code",
   "execution_count": 4,
   "id": "34a58f9b",
   "metadata": {},
   "outputs": [
    {
     "name": "stdout",
     "output_type": "stream",
     "text": [
      "enter your name:syed\n",
      "enter your age:225\n",
      "enter your school:lk\n",
      "enter your degree:3\n"
     ]
    }
   ],
   "source": [
    "name=input(\"enter your name:\")\n",
    "age=input(\"enter your age:\")\n",
    "school=input(\"enter your school:\")\n",
    "degree=input(\"enter your degree:\")\n",
    "print=(\"enter your name:\", name)\n",
    "print=(\"enter your age:\",  age)\n",
    "print=(\"enter your school:\", school)\n",
    "print=(\"enter your degree:\", degree)"
   ]
  },
  {
   "cell_type": "code",
   "execution_count": 5,
   "id": "d578616c",
   "metadata": {},
   "outputs": [
    {
     "name": "stdout",
     "output_type": "stream",
     "text": [
      "enter your name:syed\n",
      "enter your age:56\n",
      "enter your school:hf\n",
      "enter your degree:hj\n"
     ]
    }
   ],
   "source": [
    "name=input(\"enter your name:\")\n",
    "age=input(\"enter your age:\")\n",
    "school=input(\"enter your school:\")\n",
    "degree=input(\"enter your degree:\")\n",
    "print=(\"enter your name:\")\n",
    "print=(\"enter your age:\")\n",
    "print=(\"enter your school:\")\n",
    "print=(\"enter your degree:\")"
   ]
  },
  {
   "cell_type": "code",
   "execution_count": 3,
   "id": "1521e879",
   "metadata": {},
   "outputs": [
    {
     "name": "stdout",
     "output_type": "stream",
     "text": [
      "a= 43\n",
      "b= 34\n",
      "add= 77\n"
     ]
    }
   ],
   "source": [
    "a=43\n",
    "b=34\n",
    "add=a+b\n",
    "print(\"a=\",a)\n",
    "print(\"b=\",b)\n",
    "print(\"add=\",add)"
   ]
  },
  {
   "cell_type": "code",
   "execution_count": 4,
   "id": "df31fa5c",
   "metadata": {},
   "outputs": [
    {
     "name": "stdout",
     "output_type": "stream",
     "text": [
      "a= 43\n",
      "b= 34\n",
      "sub= 9\n"
     ]
    }
   ],
   "source": [
    "a=43\n",
    "b=34\n",
    "sub=a-b\n",
    "print(\"a=\",a)\n",
    "print(\"b=\",b)\n",
    "print(\"sub=\",sub)"
   ]
  },
  {
   "cell_type": "code",
   "execution_count": 5,
   "id": "f99436ac",
   "metadata": {},
   "outputs": [
    {
     "name": "stdout",
     "output_type": "stream",
     "text": [
      "a= 43\n",
      "b= 34\n",
      "mul= 1462\n"
     ]
    }
   ],
   "source": [
    "a=43\n",
    "b=34\n",
    "mul=a*b\n",
    "print(\"a=\",a)\n",
    "print(\"b=\",b)\n",
    "print(\"mul=\",mul)"
   ]
  },
  {
   "cell_type": "code",
   "execution_count": 6,
   "id": "28479855",
   "metadata": {},
   "outputs": [
    {
     "name": "stdout",
     "output_type": "stream",
     "text": [
      "a= 43\n",
      "b= 34\n",
      "float div= 1.2647058823529411\n"
     ]
    }
   ],
   "source": [
    "a=43\n",
    "b=34\n",
    "div=a/b\n",
    "print(\"a=\",a)\n",
    "print(\"b=\",b)\n",
    "print(\"float div=\",div)"
   ]
  },
  {
   "cell_type": "code",
   "execution_count": 7,
   "id": "545b5ee2",
   "metadata": {},
   "outputs": [
    {
     "name": "stdout",
     "output_type": "stream",
     "text": [
      "a= 43\n",
      "b= 34\n",
      "floor division= 1\n"
     ]
    }
   ],
   "source": [
    "a=43\n",
    "b=34\n",
    "div=a//b\n",
    "print(\"a=\",a)\n",
    "print(\"b=\",b)\n",
    "print(\"floor division=\",div)"
   ]
  },
  {
   "cell_type": "code",
   "execution_count": 8,
   "id": "ecaf91cb",
   "metadata": {},
   "outputs": [
    {
     "name": "stdout",
     "output_type": "stream",
     "text": [
      "a= 43\n",
      "b= 34\n",
      "modulo= 9\n"
     ]
    }
   ],
   "source": [
    "a=43\n",
    "b=34\n",
    "modulo=a%b\n",
    "print(\"a=\",a)\n",
    "print(\"b=\",b)\n",
    "print(\"modulo=\",modulo)"
   ]
  },
  {
   "cell_type": "code",
   "execution_count": 11,
   "id": "d8e648ab",
   "metadata": {},
   "outputs": [
    {
     "name": "stdout",
     "output_type": "stream",
     "text": [
      "a= 43\n",
      "b= 34\n",
      "power= (43, 34)\n"
     ]
    }
   ],
   "source": [
    "a=43\n",
    "b=34\n",
    "pow=(a, b)\n",
    "print(\"a=\",a)\n",
    "print(\"b=\",b)\n",
    "print(\"power=\",power)"
   ]
  },
  {
   "cell_type": "code",
   "execution_count": null,
   "id": "cbcd660b",
   "metadata": {},
   "outputs": [],
   "source": []
  }
 ],
 "metadata": {
  "kernelspec": {
   "display_name": "Python 3 (ipykernel)",
   "language": "python",
   "name": "python3"
  },
  "language_info": {
   "codemirror_mode": {
    "name": "ipython",
    "version": 3
   },
   "file_extension": ".py",
   "mimetype": "text/x-python",
   "name": "python",
   "nbconvert_exporter": "python",
   "pygments_lexer": "ipython3",
   "version": "3.11.5"
  }
 },
 "nbformat": 4,
 "nbformat_minor": 5
}
